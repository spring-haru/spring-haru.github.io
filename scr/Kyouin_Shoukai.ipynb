{
 "cells": [
  {
   "cell_type": "code",
   "execution_count": 1,
   "metadata": {},
   "outputs": [],
   "source": [
    "# 計算・図示用のパッケージの読み込み\n",
    "\n",
    "import pandas as pd\n",
    "import matplotlib.pyplot as plt\n",
    "\n",
    "# 日本語の文字化け防止\n",
    "\n",
    "import matplotlib as mpl\n",
    "font = {\"family\":\"IPAexGothic\"}\n",
    "mpl.rc('font', **font)"
   ]
  },
  {
   "cell_type": "code",
   "execution_count": 2,
   "metadata": {},
   "outputs": [],
   "source": [
    "# データの読み込み\n",
    "\n",
    "df = pd.read_csv(\n",
    "    'TED_1_MAR20181.csv', index_col=[3,1]).drop(\n",
    "    columns=['REGION', 'COUNTRY', 'MEASURE', '2018']).loc[\n",
    "    'Per Capita Income growth']"
   ]
  },
  {
   "cell_type": "code",
   "execution_count": 3,
   "metadata": {},
   "outputs": [
    {
     "data": {
      "text/html": [
       "<div>\n",
       "<style scoped>\n",
       "    .dataframe tbody tr th:only-of-type {\n",
       "        vertical-align: middle;\n",
       "    }\n",
       "\n",
       "    .dataframe tbody tr th {\n",
       "        vertical-align: top;\n",
       "    }\n",
       "\n",
       "    .dataframe thead th {\n",
       "        text-align: right;\n",
       "    }\n",
       "</style>\n",
       "<table border=\"1\" class=\"dataframe\">\n",
       "  <thead>\n",
       "    <tr style=\"text-align: right;\">\n",
       "      <th></th>\n",
       "      <th>1950</th>\n",
       "      <th>1951</th>\n",
       "      <th>1952</th>\n",
       "      <th>1953</th>\n",
       "      <th>1954</th>\n",
       "      <th>1955</th>\n",
       "      <th>1956</th>\n",
       "      <th>1957</th>\n",
       "      <th>1958</th>\n",
       "      <th>1959</th>\n",
       "      <th>...</th>\n",
       "      <th>2008</th>\n",
       "      <th>2009</th>\n",
       "      <th>2010</th>\n",
       "      <th>2011</th>\n",
       "      <th>2012</th>\n",
       "      <th>2013</th>\n",
       "      <th>2014</th>\n",
       "      <th>2015</th>\n",
       "      <th>2016</th>\n",
       "      <th>2017</th>\n",
       "    </tr>\n",
       "    <tr>\n",
       "      <th>ISO</th>\n",
       "      <th></th>\n",
       "      <th></th>\n",
       "      <th></th>\n",
       "      <th></th>\n",
       "      <th></th>\n",
       "      <th></th>\n",
       "      <th></th>\n",
       "      <th></th>\n",
       "      <th></th>\n",
       "      <th></th>\n",
       "      <th></th>\n",
       "      <th></th>\n",
       "      <th></th>\n",
       "      <th></th>\n",
       "      <th></th>\n",
       "      <th></th>\n",
       "      <th></th>\n",
       "      <th></th>\n",
       "      <th></th>\n",
       "      <th></th>\n",
       "      <th></th>\n",
       "    </tr>\n",
       "  </thead>\n",
       "  <tbody>\n",
       "    <tr>\n",
       "      <th>DZA</th>\n",
       "      <td>NaN</td>\n",
       "      <td>-1</td>\n",
       "      <td>2</td>\n",
       "      <td>-1</td>\n",
       "      <td>5</td>\n",
       "      <td>1</td>\n",
       "      <td>7</td>\n",
       "      <td>9</td>\n",
       "      <td>2</td>\n",
       "      <td>16</td>\n",
       "      <td>...</td>\n",
       "      <td>1</td>\n",
       "      <td>0</td>\n",
       "      <td>2</td>\n",
       "      <td>1</td>\n",
       "      <td>1</td>\n",
       "      <td>1</td>\n",
       "      <td>2</td>\n",
       "      <td>2</td>\n",
       "      <td>1</td>\n",
       "      <td>1</td>\n",
       "    </tr>\n",
       "    <tr>\n",
       "      <th>AGO</th>\n",
       "      <td>NaN</td>\n",
       "      <td>2</td>\n",
       "      <td>2</td>\n",
       "      <td>2</td>\n",
       "      <td>-4</td>\n",
       "      <td>6</td>\n",
       "      <td>-3</td>\n",
       "      <td>8</td>\n",
       "      <td>4</td>\n",
       "      <td>-1</td>\n",
       "      <td>...</td>\n",
       "      <td>10</td>\n",
       "      <td>-1</td>\n",
       "      <td>0</td>\n",
       "      <td>0</td>\n",
       "      <td>1</td>\n",
       "      <td>3</td>\n",
       "      <td>1</td>\n",
       "      <td>-1</td>\n",
       "      <td>-4</td>\n",
       "      <td>-1</td>\n",
       "    </tr>\n",
       "  </tbody>\n",
       "</table>\n",
       "<p>2 rows × 68 columns</p>\n",
       "</div>"
      ],
      "text/plain": [
       "    1950 1951 1952 1953 1954 1955 1956 1957 1958 1959 ...  2008 2009 2010  \\\n",
       "ISO                                                   ...                   \n",
       "DZA  NaN   -1    2   -1    5    1    7    9    2   16 ...     1    0    2   \n",
       "AGO  NaN    2    2    2   -4    6   -3    8    4   -1 ...    10   -1    0   \n",
       "\n",
       "    2011 2012 2013 2014 2015 2016 2017  \n",
       "ISO                                     \n",
       "DZA    1    1    1    2    2    1    1  \n",
       "AGO    0    1    3    1   -1   -4   -1  \n",
       "\n",
       "[2 rows x 68 columns]"
      ]
     },
     "execution_count": 3,
     "metadata": {},
     "output_type": "execute_result"
    }
   ],
   "source": [
    "# データの最初の2行\n",
    "\n",
    "df.head(2)"
   ]
  },
  {
   "cell_type": "code",
   "execution_count": 4,
   "metadata": {},
   "outputs": [
    {
     "data": {
      "text/html": [
       "<div>\n",
       "<style scoped>\n",
       "    .dataframe tbody tr th:only-of-type {\n",
       "        vertical-align: middle;\n",
       "    }\n",
       "\n",
       "    .dataframe tbody tr th {\n",
       "        vertical-align: top;\n",
       "    }\n",
       "\n",
       "    .dataframe thead th {\n",
       "        text-align: right;\n",
       "    }\n",
       "</style>\n",
       "<table border=\"1\" class=\"dataframe\">\n",
       "  <thead>\n",
       "    <tr style=\"text-align: right;\">\n",
       "      <th></th>\n",
       "      <th>1950</th>\n",
       "      <th>1951</th>\n",
       "      <th>1952</th>\n",
       "      <th>1953</th>\n",
       "      <th>1954</th>\n",
       "      <th>1955</th>\n",
       "      <th>1956</th>\n",
       "      <th>1957</th>\n",
       "      <th>1958</th>\n",
       "      <th>1959</th>\n",
       "      <th>...</th>\n",
       "      <th>2008</th>\n",
       "      <th>2009</th>\n",
       "      <th>2010</th>\n",
       "      <th>2011</th>\n",
       "      <th>2012</th>\n",
       "      <th>2013</th>\n",
       "      <th>2014</th>\n",
       "      <th>2015</th>\n",
       "      <th>2016</th>\n",
       "      <th>2017</th>\n",
       "    </tr>\n",
       "    <tr>\n",
       "      <th>ISO</th>\n",
       "      <th></th>\n",
       "      <th></th>\n",
       "      <th></th>\n",
       "      <th></th>\n",
       "      <th></th>\n",
       "      <th></th>\n",
       "      <th></th>\n",
       "      <th></th>\n",
       "      <th></th>\n",
       "      <th></th>\n",
       "      <th></th>\n",
       "      <th></th>\n",
       "      <th></th>\n",
       "      <th></th>\n",
       "      <th></th>\n",
       "      <th></th>\n",
       "      <th></th>\n",
       "      <th></th>\n",
       "      <th></th>\n",
       "      <th></th>\n",
       "      <th></th>\n",
       "    </tr>\n",
       "  </thead>\n",
       "  <tbody>\n",
       "    <tr>\n",
       "      <th>CHN1</th>\n",
       "      <td>NaN</td>\n",
       "      <td>19</td>\n",
       "      <td>10</td>\n",
       "      <td>11</td>\n",
       "      <td>-9</td>\n",
       "      <td>7</td>\n",
       "      <td>6</td>\n",
       "      <td>0</td>\n",
       "      <td>-2</td>\n",
       "      <td>-5</td>\n",
       "      <td>...</td>\n",
       "      <td>5</td>\n",
       "      <td>8</td>\n",
       "      <td>12</td>\n",
       "      <td>8</td>\n",
       "      <td>5</td>\n",
       "      <td>7</td>\n",
       "      <td>6</td>\n",
       "      <td>3</td>\n",
       "      <td>3</td>\n",
       "      <td>4</td>\n",
       "    </tr>\n",
       "    <tr>\n",
       "      <th>CHN2</th>\n",
       "      <td>NaN</td>\n",
       "      <td>NaN</td>\n",
       "      <td>NaN</td>\n",
       "      <td>13</td>\n",
       "      <td>2</td>\n",
       "      <td>5</td>\n",
       "      <td>13</td>\n",
       "      <td>2</td>\n",
       "      <td>18</td>\n",
       "      <td>7</td>\n",
       "      <td>...</td>\n",
       "      <td>10</td>\n",
       "      <td>9</td>\n",
       "      <td>10</td>\n",
       "      <td>9</td>\n",
       "      <td>8</td>\n",
       "      <td>8</td>\n",
       "      <td>7</td>\n",
       "      <td>7</td>\n",
       "      <td>7</td>\n",
       "      <td>7</td>\n",
       "    </tr>\n",
       "  </tbody>\n",
       "</table>\n",
       "<p>2 rows × 68 columns</p>\n",
       "</div>"
      ],
      "text/plain": [
       "     1950 1951 1952 1953 1954 1955 1956 1957 1958 1959 ...  2008 2009 2010  \\\n",
       "ISO                                                    ...                   \n",
       "CHN1  NaN   19   10   11   -9    7    6    0   -2   -5 ...     5    8   12   \n",
       "CHN2  NaN  NaN  NaN   13    2    5   13    2   18    7 ...    10    9   10   \n",
       "\n",
       "     2011 2012 2013 2014 2015 2016 2017  \n",
       "ISO                                      \n",
       "CHN1    8    5    7    6    3    3    4  \n",
       "CHN2    9    8    8    7    7    7    7  \n",
       "\n",
       "[2 rows x 68 columns]"
      ]
     },
     "execution_count": 4,
     "metadata": {},
     "output_type": "execute_result"
    }
   ],
   "source": [
    "# 中国のデータ\n",
    "# 'CHN1' はConference Boardが再計算\n",
    "# 'CHN2' は中国の公式データ\n",
    "\n",
    "df[df.index.str.contains('CHN')]"
   ]
  },
  {
   "cell_type": "code",
   "execution_count": 5,
   "metadata": {},
   "outputs": [],
   "source": [
    "#　'CHN1' を削除 \n",
    "\n",
    "df = df.drop('CHN1', axis=0)"
   ]
  },
  {
   "cell_type": "code",
   "execution_count": 6,
   "metadata": {},
   "outputs": [
    {
     "data": {
      "text/plain": [
       "(123, 68)"
      ]
     },
     "execution_count": 6,
     "metadata": {},
     "output_type": "execute_result"
    }
   ],
   "source": [
    "# データの行と列\n",
    "\n",
    "df.shape"
   ]
  },
  {
   "cell_type": "code",
   "execution_count": 7,
   "metadata": {},
   "outputs": [
    {
     "name": "stdout",
     "output_type": "stream",
     "text": [
      "<class 'pandas.core.frame.DataFrame'>\n",
      "Index: 123 entries, DZA to GBR\n",
      "Data columns (total 68 columns):\n",
      "1950    0 non-null object\n",
      "1951    100 non-null object\n",
      "1952    100 non-null object\n",
      "1953    101 non-null object\n",
      "1954    101 non-null object\n",
      "1955    101 non-null object\n",
      "1956    101 non-null object\n",
      "1957    101 non-null object\n",
      "1958    101 non-null object\n",
      "1959    101 non-null object\n",
      "1960    101 non-null object\n",
      "1961    102 non-null object\n",
      "1962    102 non-null object\n",
      "1963    102 non-null object\n",
      "1964    102 non-null object\n",
      "1965    102 non-null object\n",
      "1966    102 non-null object\n",
      "1967    102 non-null object\n",
      "1968    102 non-null object\n",
      "1969    102 non-null object\n",
      "1970    102 non-null object\n",
      "1971    103 non-null object\n",
      "1972    103 non-null object\n",
      "1973    103 non-null object\n",
      "1974    103 non-null object\n",
      "1975    103 non-null object\n",
      "1976    103 non-null object\n",
      "1977    103 non-null object\n",
      "1978    103 non-null object\n",
      "1979    103 non-null object\n",
      "1980    103 non-null object\n",
      "1981    121 non-null object\n",
      "1982    121 non-null object\n",
      "1983    121 non-null object\n",
      "1984    121 non-null object\n",
      "1985    121 non-null object\n",
      "1986    122 non-null object\n",
      "1987    122 non-null object\n",
      "1988    122 non-null object\n",
      "1989    122 non-null object\n",
      "1990    122 non-null object\n",
      "1991    123 non-null object\n",
      "1992    123 non-null object\n",
      "1993    123 non-null object\n",
      "1994    123 non-null object\n",
      "1995    123 non-null object\n",
      "1996    123 non-null object\n",
      "1997    123 non-null object\n",
      "1998    123 non-null object\n",
      "1999    123 non-null object\n",
      "2000    123 non-null object\n",
      "2001    123 non-null object\n",
      "2002    123 non-null object\n",
      "2003    123 non-null object\n",
      "2004    123 non-null object\n",
      "2005    123 non-null object\n",
      "2006    123 non-null object\n",
      "2007    123 non-null object\n",
      "2008    123 non-null object\n",
      "2009    123 non-null object\n",
      "2010    123 non-null object\n",
      "2011    123 non-null object\n",
      "2012    123 non-null object\n",
      "2013    123 non-null object\n",
      "2014    123 non-null object\n",
      "2015    123 non-null object\n",
      "2016    123 non-null object\n",
      "2017    123 non-null object\n",
      "dtypes: object(68)\n",
      "memory usage: 66.3+ KB\n"
     ]
    }
   ],
   "source": [
    "# データのタイプと 'NaN' の確認\n",
    "\n",
    "df.info()"
   ]
  },
  {
   "cell_type": "code",
   "execution_count": 8,
   "metadata": {},
   "outputs": [],
   "source": [
    "# データを数値タイプに変換\n",
    "\n",
    "df = df.apply(pd.to_numeric)"
   ]
  },
  {
   "cell_type": "code",
   "execution_count": 9,
   "metadata": {},
   "outputs": [],
   "source": [
    "# それぞれの国の平均成長率を計算\n",
    "\n",
    "s_mean = df.mean(axis=1)"
   ]
  },
  {
   "cell_type": "code",
   "execution_count": 10,
   "metadata": {},
   "outputs": [
    {
     "data": {
      "text/plain": [
       "4.358208955223881"
      ]
     },
     "execution_count": 10,
     "metadata": {},
     "output_type": "execute_result"
    }
   ],
   "source": [
    "# 日本の平均成長率\n",
    "\n",
    "s_mean['JPN']"
   ]
  },
  {
   "cell_type": "code",
   "execution_count": 11,
   "metadata": {},
   "outputs": [
    {
     "data": {
      "text/plain": [
       "7.030769230769231"
      ]
     },
     "execution_count": 11,
     "metadata": {},
     "output_type": "execute_result"
    }
   ],
   "source": [
    "# 平均成長率の最大値\n",
    "\n",
    "s_mean.max()"
   ]
  },
  {
   "cell_type": "code",
   "execution_count": 12,
   "metadata": {},
   "outputs": [
    {
     "data": {
      "text/plain": [
       "-1.0149253731343284"
      ]
     },
     "execution_count": 12,
     "metadata": {},
     "output_type": "execute_result"
    }
   ],
   "source": [
    "# 平均成長率の最小値\n",
    "\n",
    "s_mean.min()"
   ]
  },
  {
   "cell_type": "code",
   "execution_count": 13,
   "metadata": {},
   "outputs": [
    {
     "data": {
      "text/plain": [
       "8.04569460390356"
      ]
     },
     "execution_count": 13,
     "metadata": {},
     "output_type": "execute_result"
    }
   ],
   "source": [
    "# 最大値と最小値の差\n",
    "\n",
    "s_mean.max() - s_mean.min()"
   ]
  },
  {
   "cell_type": "code",
   "execution_count": 22,
   "metadata": {},
   "outputs": [
    {
     "data": {
      "image/png": "[encoded data removed]",
      "text/plain": [
       "<Figure size 720x432 with 1 Axes>"
      ]
     },
     "metadata": {
      "needs_background": "light"
     },
     "output_type": "display_data"
    }
   ],
   "source": [
    "# ヒストグラムの作成・表示・保存\n",
    "\n",
    "plt.subplots(figsize=[10,6])\n",
    "plt.suptitle('図1：1人当たり実質GDP平均成長率（％; 124カ国, 1951〜2017年）', \\\n",
    "             fontsize=20, horizontalalignment='left', y=1.0, x=0.08)\n",
    "plt.title(\"（データ出所：The Conference Board Total Economy Database, March 2018）\", \\\n",
    "             fontsize=15, horizontalalignment='left', x=0.02)\n",
    "plt.ylabel(\"国の数\", fontsize=17)\n",
    "plt.hist(s_mean, bins=16, color=\"lightgreen\", edgecolor='black', linewidth=1.2)\n",
    "plt.savefig('histogram.pdf')"
   ]
  },
  {
   "cell_type": "code",
   "execution_count": 21,
   "metadata": {},
   "outputs": [
    {
     "data": {
      "image/png": "[encoded data removed]",
      "text/plain": [
       "<Figure size 720x432 with 1 Axes>"
      ]
     },
     "metadata": {
      "needs_background": "light"
     },
     "output_type": "display_data"
    }
   ],
   "source": [
    "# ヒストグラムの作成・表示・保存（英語版）\n",
    "\n",
    "plt.subplots(figsize=[10,6])\n",
    "plt.suptitle('Figure 1： Average growth rate of GDP per capita (%; 124 countries, 1951〜2017)', \n",
    "             fontsize=16, horizontalalignment='left', y=1.0, x=0.08)\n",
    "plt.title(\"Data: The Conference Board Total Economy Database, March 2018\", \\\n",
    "             fontsize=15, horizontalalignment='left', x=0.09)\n",
    "plt.ylabel(\"No of Countries\", fontsize=17)\n",
    "plt.hist(s_mean, bins=16, color=\"lightgreen\", edgecolor='black', linewidth=1.2)\n",
    "plt.savefig('histogram_eng.pdf')"
   ]
  },
  {
   "cell_type": "code",
   "execution_count": null,
   "metadata": {},
   "outputs": [],
   "source": []
  }
 ],
 "metadata": {
  "kernelspec": {
   "display_name": "Python 3",
   "language": "python",
   "name": "python3"
  },
  "language_info": {
   "codemirror_mode": {
    "name": "ipython",
    "version": 3
   },
   "file_extension": ".py",
   "mimetype": "text/x-python",
   "name": "python",
   "nbconvert_exporter": "python",
   "pygments_lexer": "ipython3",
   "version": "3.6.6"
  },
  "toc": {
   "base_numbering": 1,
   "nav_menu": {},
   "number_sections": true,
   "sideBar": true,
   "skip_h1_title": false,
   "title_cell": "Table of Contents",
   "title_sidebar": "Contents",
   "toc_cell": false,
   "toc_position": {},
   "toc_section_display": true,
   "toc_window_display": false
  }
 },
 "nbformat": 4,
 "nbformat_minor": 2
}
